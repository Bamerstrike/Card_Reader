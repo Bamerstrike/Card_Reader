{
 "cells": [
  {
   "cell_type": "code",
   "execution_count": 1,
   "metadata": {},
   "outputs": [],
   "source": [
    "import pandas as pd"
   ]
  },
  {
   "cell_type": "code",
   "execution_count": 2,
   "metadata": {},
   "outputs": [],
   "source": [
    "def poker(x):\n",
    "    \n",
    "    a = 0\n",
    "    \n",
    "    dd = pd.DataFrame({0: x[0], 1:x[1], 2: x[2], 3: x[3], 4:x[4], 5:x[5], 6:x[6], 7:x[7], 8:x[8], 9:x[9]},index=[0])\n",
    "  \n",
    "    from tensorflow.keras.models import load_model\n",
    "    model = load_model(\"pokerhand.h5\")\n",
    "\n",
    "    prediction = model.predict_classes(dd)\n",
    "\n",
    "    result = prediction\n",
    "    \n",
    "    if result == 4:\n",
    "        a = a + 1\n",
    "    \n",
    "    if x[0] == x[2] == x[4] == x[6] == x[8]:\n",
    "        result = 5\n",
    "        if a == 1:\n",
    "            result = 8\n",
    "\n",
    "    if result == 0:\n",
    "        result = \"High Card\"\n",
    "    elif result == 1:\n",
    "        result = \"One pair\"\n",
    "    elif result == 2:\n",
    "        result = \"Two pairs\"\n",
    "    elif result == 3:\n",
    "        result = \"Three of a kind\"\n",
    "    elif result == 4:\n",
    "        result = \"Straight\"\n",
    "    elif result == 5:\n",
    "        result = \"Flush\"\n",
    "    elif result == 6:\n",
    "        result = \"Full house\"\n",
    "    elif result == 7:\n",
    "        result = \"Four of a kind\"\n",
    "    elif result == 8:\n",
    "        result = \"Straight flush\"\n",
    "    elif result == 9:\n",
    "        result = \"Royal flush\"\n",
    "  \n",
    "    return result"
   ]
  },
  {
   "cell_type": "code",
   "execution_count": 3,
   "metadata": {},
   "outputs": [],
   "source": [
    "x0 = [4,2,1,8,4,13,2,5,4,7]\n",
    "x1 = [1,7,1,13,1,12,4,9,4,12]\n",
    "x2 = [4,12,2,1,2,6,3,1,2,12]\n",
    "x3 = [1,3,2,5,3,13,1,13,4,13]\n",
    "x4 = [3,5,1,8,2,7,1,4,2,6]\n",
    "x5 = [4,1,4,5,4,7,4,9,4,13]\n",
    "x6 = [3,7,1,11,4,7,2,7,2,11]\n",
    "x7 = [4,13,4,11,2,11,3,11,1,11]\n",
    "x8 = [1,7,1,3,1,6,1,5,1,4]"
   ]
  },
  {
   "cell_type": "code",
   "execution_count": 8,
   "metadata": {},
   "outputs": [],
   "source": [
    "x = x2"
   ]
  },
  {
   "cell_type": "code",
   "execution_count": 9,
   "metadata": {},
   "outputs": [
    {
     "data": {
      "text/plain": [
       "'Two pairs'"
      ]
     },
     "execution_count": 9,
     "metadata": {},
     "output_type": "execute_result"
    }
   ],
   "source": [
    "poker(x)"
   ]
  },
  {
   "cell_type": "code",
   "execution_count": null,
   "metadata": {},
   "outputs": [],
   "source": []
  },
  {
   "cell_type": "code",
   "execution_count": null,
   "metadata": {},
   "outputs": [],
   "source": []
  },
  {
   "cell_type": "code",
   "execution_count": null,
   "metadata": {},
   "outputs": [],
   "source": []
  },
  {
   "cell_type": "code",
   "execution_count": null,
   "metadata": {},
   "outputs": [],
   "source": []
  },
  {
   "cell_type": "code",
   "execution_count": null,
   "metadata": {},
   "outputs": [],
   "source": []
  },
  {
   "cell_type": "code",
   "execution_count": null,
   "metadata": {},
   "outputs": [],
   "source": []
  }
 ],
 "metadata": {
  "kernelspec": {
   "display_name": "Python 3",
   "language": "python",
   "name": "python3"
  },
  "language_info": {
   "codemirror_mode": {
    "name": "ipython",
    "version": 3
   },
   "file_extension": ".py",
   "mimetype": "text/x-python",
   "name": "python",
   "nbconvert_exporter": "python",
   "pygments_lexer": "ipython3",
<<<<<<< HEAD
   "version": "3.7.6"
=======
   "version": "3.7.3"
>>>>>>> 38d0213208d196df1b7d85dfef6f6968cc092054
  }
 },
 "nbformat": 4,
 "nbformat_minor": 2
}
